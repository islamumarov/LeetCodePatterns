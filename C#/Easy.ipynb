{
 "cells": [
  {
   "cell_type": "markdown",
   "id": "6f58b00a",
   "metadata": {},
   "source": [
    "## 217. Contains Duplicate"
   ]
  },
  {
   "cell_type": "markdown",
   "id": "62a53f97",
   "metadata": {},
   "source": [
    "Given an integer array nums, return true if any value appears at least twice in the array, and return false if every element is \n",
    "distinct.\n",
    "* Example 1:\n",
    "   `` Input: nums = [1,2,3,1] Output: true``\n",
    "* Example 2:\n",
    "    ``Input: nums = [1,2,3,4] Output: false``\n",
    "\n",
    "* Example 3:\n",
    "    ``Input: nums = [1,1,1,3,3,4,3,2,4,2] Output: true``"
   ]
  },
  {
   "cell_type": "code",
   "execution_count": 1,
   "id": "40e6e5ab",
   "metadata": {
    "dotnet_interactive": {
     "language": "csharp"
    }
   },
   "outputs": [
    {
     "name": "stdout",
     "output_type": "stream",
     "text": [
      "1 expected: True  actual: True\n",
      "2 expected: False  actual: False\n",
      "3 expected: True  actual: True\n"
     ]
    }
   ],
   "source": [
    "public bool ContainsDuplicate(int[] nums) {\n",
    "   HashSet<int> arr = new HashSet<int>();\n",
    "    foreach (int i in nums)\n",
    "    {\n",
    "        arr.Add(i);\n",
    "    }\n",
    "    return arr.Count == nums.Length ? false : true;\n",
    "} \n",
    "var nums1 = new int[] {1,2,3,1};\n",
    "var nums2 = new int[]{1,2,3,4};\n",
    "var nums3 = new int[]{1,1,1,3,3,4,3,2,4,2};\n",
    "var expected1 = true;\n",
    "var expected2 = false;\n",
    "var expected3 = true;\n",
    "var actual1 = ContainsDuplicate(nums1);\n",
    "var actual2 = ContainsDuplicate(nums2);\n",
    "var actual3 = ContainsDuplicate(nums3);\n",
    "Console.WriteLine($\"1 expected: {expected1}  actual: {actual1}\");\n",
    "Console.WriteLine($\"2 expected: {expected2}  actual: {actual2}\");\n",
    "Console.WriteLine($\"3 expected: {expected3}  actual: {actual3}\");"
   ]
  },
  {
   "cell_type": "markdown",
   "id": "887d359b",
   "metadata": {},
   "source": [
    "### 268. Missing Number\n",
    "\n",
    "Given an array nums containing n distinct numbers in the range [0, n], return the only number in the range that is missing from the array.\n",
    "\n",
    "**Follow up: Could you implement a solution using only O(1) extra space complexity and O(n) runtime complexity?**\n",
    "\n",
    "* Example 1:\n",
    "\n",
    "  ``  Input: nums = [3,0,1] Output: 2``\n",
    "    Explanation: ``n = 3`` since there are ``3`` numbers, so all numbers are in the range ``[0,3]``. ``2`` is the missing number in the range since it does not appear in nums.\n",
    "\n",
    "* Example 2:\n",
    "``Input: nums = [0,1] Output: 2``\n",
    "    Explanation: ``n = 2`` since there are ``2`` numbers, so all numbers are in the range ``[0,2]``. ``2`` is the missing number in the range since it does not appear in nums.\n",
    "\n",
    "* Example 3:\n",
    "    ``Input: nums = [9,6,4,2,3,5,7,0,1] Output: 8``\n",
    "    Explanation: ``n = 9`` since there are ``9`` numbers, so all numbers are in the range ``[0,9]``.``8`` is the missing number in the range since it does not appear in nums.\n",
    "\n",
    "* Example 4:\n",
    "``    Input: nums = [0] Output: 1``\n",
    "    Explanation: ``n = 1`` since there is ``1`` number, so all numbers are in the range ``[0,1]``. ``1`` is the missing number in the range since it does not appear in nums.\n"
   ]
  },
  {
   "cell_type": "code",
   "execution_count": 2,
   "id": "087f8f47",
   "metadata": {
    "dotnet_interactive": {
     "language": "csharp"
    }
   },
   "outputs": [
    {
     "name": "stdout",
     "output_type": "stream",
     "text": [
      "1 expected: 2  actual: 2\n",
      "2 expected: 1  actual: 1\n",
      "3 expected: 8  actual: 8\n"
     ]
    }
   ],
   "source": [
    "public int MissingNumber(int[] nums) {\n",
    "        for(int i=0; i <= nums.Length; i++){\n",
    "            if(!nums.Contains(i))\n",
    "                return i;\n",
    "        }\n",
    "        return 0;\n",
    "    }\n",
    "var nums1 = new int[] {3,0,1};\n",
    "var nums2 = new int[]{0};\n",
    "var nums3 = new int[]{9,6,4,2,3,5,7,0,1};\n",
    "var expected1 = 2;\n",
    "var expected2 = 1;\n",
    "var expected3 = 8;\n",
    "var actual1 = MissingNumber(nums1);\n",
    "var actual2 = MissingNumber(nums2);\n",
    "var actual3 = MissingNumber(nums3);\n",
    "Console.WriteLine($\"1 expected: {expected1}  actual: {actual1}\");\n",
    "Console.WriteLine($\"2 expected: {expected2}  actual: {actual2}\");\n",
    "Console.WriteLine($\"3 expected: {expected3}  actual: {actual3}\");"
   ]
  },
  {
   "cell_type": "code",
   "execution_count": 3,
   "id": "32092608",
   "metadata": {
    "dotnet_interactive": {
     "language": "csharp"
    }
   },
   "outputs": [],
   "source": [
    "public int MissingNumber(int[] nums) {\n",
    "    var n = nums.Length;\n",
    "    return n * (n + 1) / 2 - nums.Sum();\n",
    "}\n",
    "var nums3 = new int[]{9,6,4,2,3,5,7,0,1};\n",
    "var actual3 = MissingNumber(nums3);\n"
   ]
  },
  {
   "attachments": {},
   "cell_type": "markdown",
   "id": "ea938c93",
   "metadata": {},
   "source": [
    "Used Sum of N Terms of AP And Arithmetic Progression\n",
    "`` S(n) = (a1 + an)*n/2``\n",
    "* Complexity  O(n) \n",
    "* Memory O(1)"
   ]
  },
  {
   "cell_type": "markdown",
   "id": "43c88d1c",
   "metadata": {},
   "source": [
    "### 448. Find All Numbers Disappeared in an Array\n",
    "Given an array nums of n integers where nums``[i] is in the range [1, n]``, return an array of all the integers in the range ``[1, n]`` that do not appear in nums.\n",
    "\n",
    " \n",
    "\n",
    "* Example 1:\n",
    "    Input: ``nums = [4,3,2,7,8,2,3,1]``\n",
    "    Output: ``[5,6]``\n",
    "* Example 2:\n",
    "    Input: ``nums = [1,1]``\n",
    "    Output: ``[2]``"
   ]
  },
  {
   "cell_type": "code",
   "execution_count": 4,
   "id": "740b6e85",
   "metadata": {
    "dotnet_interactive": {
     "language": "csharp"
    }
   },
   "outputs": [
    {
     "name": "stdout",
     "output_type": "stream",
     "text": [
      "1 expected: and  actual:\n"
     ]
    },
    {
     "data": {
      "text/html": [
       "<table><thead><tr><th>Item1</th><th>Item2</th></tr></thead><tbody><tr><td>[ 5, 6 ]</td><td>[ 5, 6 ]</td></tr></tbody></table>"
      ]
     },
     "execution_count": 4,
     "metadata": {},
     "output_type": "execute_result"
    }
   ],
   "source": [
    " public IList<int> FindDisappearedNumbers(int[] nums) {\n",
    "       int i = 0;\n",
    "    while (i < nums.Length)\n",
    "    {\n",
    "        var pos = nums[i] - 1;\n",
    "        if (nums[i] != nums[pos])\n",
    "        {\n",
    "            int tmp = nums[i];\n",
    "            nums[i] = nums[pos];\n",
    "            nums[pos] = tmp;\n",
    "        }\n",
    "        else i++;\n",
    "    }\n",
    "    List<int> result = new List<int>();\n",
    "    for(int j=0; j < nums.Length; j++)\n",
    "    {\n",
    "        if (nums[j] != j + 1)\n",
    "            result.Add(j+ 1);\n",
    "    }\n",
    "    return result;\n",
    "    }\n",
    "var nums = new int[] {4,3,2,7,8,2,3,1};\n",
    "var expected = new int[] {5,6};\n",
    "var actual = FindDisappearedNumbers(nums);\n",
    "Console.WriteLine($\"1 expected: and  actual:\");\n",
    "(expected, actual)"
   ]
  },
  {
   "cell_type": "code",
   "execution_count": null,
   "id": "941aeede",
   "metadata": {},
   "outputs": [],
   "source": []
  }
 ],
 "metadata": {
  "interpreter": {
   "hash": "9500ad8ecfd110cb39315065c3166d8992f7ac49cc25a6ca6e1cf2d8728a5d9d"
  },
  "kernelspec": {
   "display_name": ".NET (C#)",
   "language": "C#",
   "name": ".net-csharp"
  },
  "language_info": {
   "file_extension": ".cs",
   "mimetype": "text/x-csharp",
   "name": "C#",
   "pygments_lexer": "csharp",
   "version": "8.0"
  }
 },
 "nbformat": 4,
 "nbformat_minor": 5
}
