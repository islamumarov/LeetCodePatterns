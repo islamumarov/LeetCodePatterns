{
 "cells": [
  {
   "cell_type": "markdown",
   "id": "5a150704",
   "metadata": {},
   "source": [
    "## 217. Contains Duplicate"
   ]
  },
  {
   "cell_type": "markdown",
   "id": "ba1a1c19",
   "metadata": {},
   "source": [
    "Given an integer array nums, return true if any value appears at least twice in the array, and return false if every element is \n",
    "distinct.\n",
    "\n",
    "* Example 1:\n",
    "    Input: nums = [1,2,3,1]\n",
    "    Output: true\n",
    "* Example 2:\n",
    "    Input: nums = [1,2,3,4]\n",
    "    Output: false\n",
    "\n",
    "* Example 3:\n",
    "    Input: nums = [1,1,1,3,3,4,3,2,4,2]\n",
    "    Output: true\n"
   ]
  },
  {
   "cell_type": "code",
   "execution_count": 15,
   "id": "efe47634",
   "metadata": {},
   "outputs": [
    {
     "name": "stdout",
     "output_type": "stream",
     "text": [
      "1 expected: True  actual: True\n",
      "2 expected: False  actual: False\n",
      "3 expected: True  actual: True\n"
     ]
    }
   ],
   "source": [
    "public bool ContainsDuplicate(int[] nums) {\n",
    "   HashSet<int> arr = new HashSet<int>();\n",
    "    foreach (int i in nums)\n",
    "    {\n",
    "        arr.Add(i);\n",
    "    }\n",
    "    return arr.Count == nums.Length ? false : true;\n",
    "} \n",
    "var nums1 = new int[] {1,2,3,1};\n",
    "var nums2 = new int[]{1,2,3,4};\n",
    "var nums3 = new int[]{1,1,1,3,3,4,3,2,4,2};\n",
    "var expected1 = true;\n",
    "var expected2 = false;\n",
    "var expected3 = true;\n",
    "var actual1 = ContainsDuplicate(nums1);\n",
    "var actual2 = ContainsDuplicate(nums2);\n",
    "var actual3 = ContainsDuplicate(nums3);\n",
    "Console.WriteLine($\"1 expected: {expected1}  actual: {actual1}\");\n",
    "Console.WriteLine($\"2 expected: {expected2}  actual: {actual2}\");\n",
    "Console.WriteLine($\"3 expected: {expected3}  actual: {actual3}\");"
   ]
  },
  {
   "cell_type": "code",
   "execution_count": null,
   "id": "25f9a5da",
   "metadata": {},
   "outputs": [],
   "source": []
  }
 ],
 "metadata": {
  "kernelspec": {
   "display_name": ".NET (C#)",
   "language": "C#",
   "name": ".net-csharp"
  },
  "language_info": {
   "file_extension": ".cs",
   "mimetype": "text/x-csharp",
   "name": "C#",
   "pygments_lexer": "csharp",
   "version": "8.0"
  }
 },
 "nbformat": 4,
 "nbformat_minor": 5
}
