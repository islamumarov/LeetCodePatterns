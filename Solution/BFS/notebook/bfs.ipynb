{
 "cells": [
  {
   "cell_type": "markdown",
   "metadata": {},
   "source": [
    "##### Given the root node of a binary search tree and two integers low and high, return the sum of values of all nodes with a value in the inclusive range [low, high].\n",
    "\n",
    "[leetcode task link](https://leetcode.com/problems/range-sum-of-bst/)"
   ]
  },
  {
   "cell_type": "markdown",
   "metadata": {},
   "source": []
  },
  {
   "cell_type": "markdown",
   "metadata": {},
   "source": [
    "### Example 1:\n",
    "\n",
    "<img src=\"wwwroot/bst1.jpg\">\n"
   ]
  },
  {
   "cell_type": "markdown",
   "metadata": {},
   "source": [
    "```Input: root = [10,5,15,3,7,null,18], low = 7, high = 15\n",
    "Output: 32\n",
    "Explanation: Nodes 7, 10, and 15 are in the range [7, 15]. 7 + 10 + 15 = 32.\n",
    "```\n"
   ]
  },
  {
   "cell_type": "code",
   "execution_count": 2,
   "metadata": {
    "vscode": {
     "languageId": "csharp"
    }
   },
   "outputs": [],
   "source": [
    "public class TreeNode\n",
    "{\n",
    "    public int val;\n",
    "    public TreeNode left;\n",
    "    public TreeNode right;\n",
    "    public TreeNode(int val=0, TreeNode left=null, TreeNode right=null) {\n",
    "        this.val = val;\n",
    "        this.left = left;\n",
    "        this.right = right;\n",
    "    }\n",
    "}"
   ]
  },
  {
   "cell_type": "code",
   "execution_count": 12,
   "metadata": {
    "vscode": {
     "languageId": "csharp"
    }
   },
   "outputs": [],
   "source": [
    "int sum=0;\n",
    "void dfs(TreeNode node, int low, int high) {\n",
    "    if (node != null) {\n",
    "        if (low <= node.val && node.val <= high)\n",
    "            sum += node.val;\n",
    "        if (low < node.val)\n",
    "            dfs(node.left, low, high);\n",
    "        if (node.val < high)\n",
    "            dfs(node.right, low, high);\n",
    "    }\n",
    "}"
   ]
  },
  {
   "cell_type": "code",
   "execution_count": 14,
   "metadata": {
    "vscode": {
     "languageId": "csharp"
    }
   },
   "outputs": [],
   "source": [
    "void dfsT(TreeNode root)\n",
    "{\n",
    "    if(root == null) return;\n",
    "    Console.WriteLine(root.val);\n",
    "    if(root.left != null)\n",
    "        dfsT(root.left);\n",
    "    if(root.right != null) dfsT(root.right);\n",
    "}"
   ]
  },
  {
   "cell_type": "code",
   "execution_count": 15,
   "metadata": {
    "vscode": {
     "languageId": "csharp"
    }
   },
   "outputs": [],
   "source": [
    "\n",
    "int rangeSumBST(TreeNode root, int low, int high) {\n",
    "        sum = 0;\n",
    "        dfs(root, low, high);\n",
    "        return sum;\n",
    "}"
   ]
  },
  {
   "cell_type": "code",
   "execution_count": 16,
   "metadata": {
    "vscode": {
     "languageId": "csharp"
    }
   },
   "outputs": [
    {
     "data": {
      "text/html": [
       "<div class=\"dni-plaintext\">32</div>"
      ]
     },
     "execution_count": 16,
     "metadata": {},
     "output_type": "execute_result"
    }
   ],
   "source": [
    "var arr = new int?[] {10,5,15,3,7,null,18};\n",
    "TreeNode root = new TreeNode(10);\n",
    "var tmp = root;\n",
    "for(int i=1; i < arr.Length; i++)\n",
    "{\n",
    "    if(arr[i] != null){\n",
    "        if(arr[i] <= tmp.val){\n",
    "            tmp.left = new TreeNode(arr[i].Value);\n",
    "            tmp = tmp.left;\n",
    "        } \n",
    "        if(arr[i] > tmp.val){\n",
    "            tmp.right = new TreeNode(arr[i].Value);\n",
    "            tmp = tmp.right;\n",
    "        }\n",
    "    }\n",
    "}\n",
    "rangeSumBST(root,7,15)"
   ]
  },
  {
   "cell_type": "code",
   "execution_count": 17,
   "metadata": {
    "vscode": {
     "languageId": "csharp"
    }
   },
   "outputs": [
    {
     "name": "stdout",
     "output_type": "stream",
     "text": [
      "10\n",
      "5\n",
      "15\n",
      "3\n",
      "7\n",
      "18\n"
     ]
    }
   ],
   "source": [
    "dfsT(root);"
   ]
  },
  {
   "cell_type": "markdown",
   "metadata": {},
   "source": [
    "[128. Longest Consecutive Sequence](https://leetcode.com/problems/longest-consecutive-sequence/)\n",
    "\n",
    "```\n",
    "Given an unsorted array of integers nums, return the length of the longest consecutive elements sequence.\n",
    "\n",
    "You must write an algorithm that runs in O(n) time.\n",
    "not suitable for array: nums[i] == nums[j] where i != j"
   ]
  },
  {
   "cell_type": "code",
   "execution_count": 29,
   "metadata": {
    "vscode": {
     "languageId": "csharp"
    }
   },
   "outputs": [],
   "source": [
    "int LongestConsecutive(int[] nums) {\n",
    "    int max= 0;\n",
    "    var set = new HashSet<int>();\n",
    "    foreach (var item in nums)\n",
    "    {\n",
    "        set.Add(item);\n",
    "    }\n",
    "    foreach(var i in nums)\n",
    "    {\n",
    "        if(!set.Contains(i-1))\n",
    "        {\n",
    "            int cur = i;\n",
    "            while (set.Contains(cur))\n",
    "            {\n",
    "                cur++;\n",
    "            }\n",
    "            max = Math.Max(max, cur-i);\n",
    "        }\n",
    "    }\n",
    "    return max;        \n",
    "}"
   ]
  },
  {
   "cell_type": "code",
   "execution_count": 30,
   "metadata": {
    "vscode": {
     "languageId": "csharp"
    }
   },
   "outputs": [
    {
     "data": {
      "text/html": [
       "<div class=\"dni-plaintext\">4</div>"
      ]
     },
     "execution_count": 30,
     "metadata": {},
     "output_type": "execute_result"
    }
   ],
   "source": [
    "var nums = new int[] {100,4,200,1,3,2};\n",
    "var res = LongestConsecutive(nums);\n",
    "res"
   ]
  },
  {
   "cell_type": "markdown",
   "metadata": {},
   "source": [
    "### [173. Binary Search Tree Iterator](https://leetcode.com/problems/binary-search-tree-iterator/)\n",
    "\n",
    "Implement the BSTIterator class that represents an iterator over the in-order traversal of a binary search tree (BST):\n",
    "\n",
    "* BSTIterator(TreeNode root) Initializes an object of the BSTIterator class. The root of the BST is given as part of the constructor. The pointer should be initialized to a non-existent number smaller than any element in the BST.\n",
    "* boolean hasNext() Returns true if there exists a number in the traversal to the right of the pointer, otherwise returns false. int next() Moves the pointer to the right, then returns the number at the pointer.\n",
    "\n",
    "Notice that by initializing the pointer to a non-existent smallest number, the first call to next() will return the smallest element in the BST.\n",
    "\n",
    "You may assume that next() calls will always be valid. That is, there will be at least a next number in the in-order traversal when next() is called.\n",
    "\n",
    "##### Example 1:\n",
    "<img src=\"wwwroot/bst-tree.png\">\n",
    "\n",
    "* Input\n",
    "` [\"BSTIterator\", \"next\", \"next\", \"hasNext\", \"next\", \"hasNext\", \"next\", \"hasNext\", \"next\", \"hasNext\"] [[[7, 3, 15, null, null, 9, 20]], [], [], [], [], [], [], [], [], []] `\n",
    "* Output\n",
    "` [null, 3, 7, true, 9, true, 15, true, 20, false]`\n",
    "\n",
    "Explanation\n",
    "* BSTIterator bSTIterator = new BSTIterator([7, 3, 15, null, null, 9, 20]);\n",
    "* bSTIterator.next();    // return 3\n",
    "* bSTIterator.next();    // return 7\n",
    "* bSTIterator.hasNext(); // return True\n",
    "* bSTIterator.next();    // return 9\n",
    "* bSTIterator.hasNext(); // return True\n",
    "* bSTIterator.next();    // return 15\n",
    "* bSTIterator.hasNext(); // return True\n",
    "* bSTIterator.next();    // return 20\n",
    "* bSTIterator.hasNext(); // return False\n",
    "\n",
    "[Submission result](https://leetcode.com/submissions/detail/726013480/)"
   ]
  },
  {
   "cell_type": "code",
   "execution_count": 18,
   "metadata": {
    "vscode": {
     "languageId": "csharp"
    }
   },
   "outputs": [],
   "source": [
    " public class TreeNode {\n",
    "      public int val;\n",
    "      public TreeNode left;\n",
    "      public TreeNode right;\n",
    "      public TreeNode(int val=0, TreeNode left=null, TreeNode right=null) {\n",
    "          this.val = val;\n",
    "          this.left = left;\n",
    "          this.right = right;\n",
    "      }\n",
    " }"
   ]
  },
  {
   "cell_type": "code",
   "execution_count": 19,
   "metadata": {
    "vscode": {
     "languageId": "csharp"
    }
   },
   "outputs": [],
   "source": [
    "public class BSTIterator {\n",
    "    private TreeNode node;\n",
    "    private Queue<int> _nodeQueue;\n",
    "    public BSTIterator(TreeNode root) {\n",
    "        this.node = root;\n",
    "        this._nodeQueue= new Queue<int>();\n",
    "        fillStack(node);\n",
    "    }\n",
    "    public void fillStack(TreeNode node)\n",
    "    {\n",
    "        if(node == null) return;\n",
    "        fillStack(node.left);\n",
    "        _nodeQueue.Enqueue(node.val);\n",
    "        fillStack(node.right);\n",
    "    }\n",
    "\n",
    "    public int Next() {\n",
    "        return HasNext() ? _nodeQueue.Dequeue() : 0;\n",
    "    }\n",
    "    \n",
    "    public bool HasNext() {\n",
    "        return _nodeQueue.Count >= 1;\n",
    "    }\n",
    "}"
   ]
  },
  {
   "cell_type": "code",
   "execution_count": null,
   "metadata": {
    "vscode": {
     "languageId": "csharp"
    }
   },
   "outputs": [],
   "source": []
  }
 ],
 "metadata": {
  "kernelspec": {
   "display_name": ".NET (C#)",
   "language": "C#",
   "name": ".net-csharp"
  },
  "language_info": {
   "file_extension": ".cs",
   "mimetype": "text/x-csharp",
   "name": "C#",
   "pygments_lexer": "csharp",
   "version": "10.0"
  },
  "orig_nbformat": 4
 },
 "nbformat": 4,
 "nbformat_minor": 2
}
