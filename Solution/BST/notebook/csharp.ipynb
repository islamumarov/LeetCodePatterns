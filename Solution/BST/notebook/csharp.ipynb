{
 "cells": [
  {
   "cell_type": "markdown",
   "metadata": {
    "dotnet_interactive": {
     "language": "csharp"
    }
   },
   "source": [
    "#### [704. Binary Search](https://leetcode.com/problems/binary-search/)\n",
    "\n",
    "Given an array of integers nums which is sorted in ascending order, and an integer target, write a function to search target in nums. If target exists, then return its index. Otherwise, return -1.\n",
    "```\n",
    "You must write an algorithm with O(log n) runtime complexity.\n",
    "\n",
    "Example 1:\n",
    "\n",
    "Input: nums = [-1,0,3,5,9,12], target = 9\n",
    "Output: 4\n",
    "Explanation: 9 exists in nums and its index is 4\n"
   ]
  },
  {
   "cell_type": "code",
   "execution_count": null,
   "metadata": {
    "dotnet_interactive": {
     "language": "csharp"
    },
    "vscode": {
     "languageId": "dotnet-interactive.csharp"
    }
   },
   "outputs": [],
   "source": [
    " int Search(int[] nums, int target) {\n",
    "        int low = 0;\n",
    "        int high = nums.Length;\n",
    "        int mid = (high-low)/2;\n",
    "        while(low < high)\n",
    "        {\n",
    "            if(target == nums[mid]) return mid;\n",
    "            if(target < nums[mid]) high = mid-1;\n",
    "            else low = mid+1;\n",
    "            mid = low + (high - low)/2;\n",
    "        }\n",
    "        return -1;\n",
    "    }"
   ]
  },
  {
   "cell_type": "code",
   "execution_count": null,
   "metadata": {
    "dotnet_interactive": {
     "language": "csharp"
    },
    "vscode": {
     "languageId": "dotnet-interactive.csharp"
    }
   },
   "outputs": [
    {
     "data": {
      "text/html": [
       "<div class=\"dni-plaintext\">4</div>"
      ]
     },
     "metadata": {},
     "output_type": "display_data"
    }
   ],
   "source": [
    "int[] arr = new int[] {-1,0,3,5,9,12};\n",
    "int target = 9;\n",
    "Search(arr,target)"
   ]
  },
  {
   "cell_type": "markdown",
   "metadata": {},
   "source": [
    "#### 744. Find Smallest Letter Greater Than Target\n",
    "Easy\n",
    "```\n",
    "Given a characters array letters that is sorted in non-decreasing order and a character target, return the smallest character in the array that is larger than target.\n",
    "\n",
    "* Note that the letters wrap around.\n",
    "\n",
    "For example, if target == 'z' and letters == ['a', 'b'], the answer is 'a'.\n"
   ]
  },
  {
   "cell_type": "code",
   "execution_count": 12,
   "metadata": {
    "dotnet_interactive": {
     "language": "csharp"
    },
    "vscode": {
     "languageId": "dotnet-interactive.csharp"
    }
   },
   "outputs": [],
   "source": [
    "public char NextGreatestLetter(char[] letters, char target) {\n",
    "    int low = 0;\n",
    "    int high = letters.Length;\n",
    "    while (low < high)\n",
    "    {\n",
    "        int mid = (high - low) / 2;\n",
    "        if(letters[mid] <= target) low = mid+1;\n",
    "        else high = mid; \n",
    "    }\n",
    "    return letters[low % letters.Length];\n",
    "}"
   ]
  },
  {
   "cell_type": "code",
   "execution_count": 13,
   "metadata": {
    "dotnet_interactive": {
     "language": "csharp"
    },
    "vscode": {
     "languageId": "dotnet-interactive.csharp"
    }
   },
   "outputs": [
    {
     "data": {
      "text/html": [
       "<div class=\"dni-plaintext\">f</div>"
      ]
     },
     "execution_count": 13,
     "metadata": {},
     "output_type": "execute_result"
    }
   ],
   "source": [
    "var letters = new char[]{'c','f','j'};\n",
    "var target = 'g';\n",
    "var ds = NextGreatestLetter(letters,target);\n",
    "ds"
   ]
  },
  {
   "cell_type": "code",
   "execution_count": null,
   "metadata": {
    "dotnet_interactive": {
     "language": "csharp"
    },
    "vscode": {
     "languageId": "dotnet-interactive.csharp"
    }
   },
   "outputs": [],
   "source": [
    "string FrequencySort(string s) {\n",
    "    string result = \"\";\n",
    "    PriorityQueue<char, int> queue = new PriorityQueue<char,int>();\n",
    "    Dictionary<char,int> dict = new Dictionary<char, int>();\n",
    "    foreach(var i in s)\n",
    "    {\n",
    "        if(dict.ContainsKey(i))\n",
    "            dict[i]++;\n",
    "        else\n",
    "            dict.Add(i,1);\n",
    "    }\n",
    "    foreach(var i in dict)\n",
    "    {\n",
    "        queue.Enqueue(i.Key,i.Value);\n",
    "    }\n",
    "    while(queue.Count > 0)\n",
    "    {\n",
    "    }\n",
    "    return result;\n",
    "}"
   ]
  },
  {
   "cell_type": "code",
   "execution_count": null,
   "metadata": {
    "dotnet_interactive": {
     "language": "csharp"
    },
    "vscode": {
     "languageId": "dotnet-interactive.csharp"
    }
   },
   "outputs": [],
   "source": []
  }
 ],
 "metadata": {
  "kernelspec": {
   "display_name": ".NET (C#)",
   "language": "C#",
   "name": ".net-csharp"
  },
  "language_info": {
   "file_extension": ".cs",
   "mimetype": "text/x-csharp",
   "name": "C#",
   "pygments_lexer": "csharp",
   "version": "10.0"
  },
  "orig_nbformat": 4,
  "vscode": {
   "interpreter": {
    "hash": "b0fa6594d8f4cbf19f97940f81e996739fb7646882a419484c72d19e05852a7e"
   }
  }
 },
 "nbformat": 4,
 "nbformat_minor": 2
}
