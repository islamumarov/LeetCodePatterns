{
 "cells": [
  {
   "cell_type": "code",
   "execution_count": 1,
   "metadata": {},
   "outputs": [],
   "source": [
    "class ListNode(object):\n",
    "    def __init__(self,val=0, next=None):\n",
    "        self.val = val\n",
    "        self.next = next\n"
   ]
  },
  {
   "cell_type": "code",
   "execution_count": 19,
   "metadata": {},
   "outputs": [],
   "source": [
    "def reverseBetween(head: ListNode, left, right):\n",
    "    node = head\n",
    "    start:ListNode\n",
    "    end = None\n",
    "    prevStart = None\n",
    "    endNext = None\n",
    "    tmp = node\n",
    "    while node:\n",
    "        if(node.val == left):\n",
    "            start = node\n",
    "            prevStart = tmp\n",
    "        if(node.val == right):\n",
    "            end = node\n",
    "            endNext = node.next\n",
    "        tmp = node\n",
    "        node = node.next\n",
    "    curr = None\n",
    "    while start.next != endNext:\n",
    "        tmp = start.next\n",
    "        start.next = curr\n",
    "        curr = start\n",
    "        start = tmp\n",
    "    curr.next = endNext\n",
    "    tmp.next = prevStart\n",
    "    head.next = tmp\n",
    "    return head"
   ]
  },
  {
   "cell_type": "code",
   "execution_count": 22,
   "metadata": {},
   "outputs": [],
   "source": [
    "head = ListNode(1)\n",
    "head.next = ListNode(2)\n",
    "head.next.next = ListNode(3)\n",
    "head.next.next.next = ListNode(4)\n",
    "head.next.next.next.next = ListNode(5)\n",
    "ds = reverseBetween(head,2,4)\n",
    "while ds:\n",
    "    print(ds.val)\n",
    "    ds = ds.next"
   ]
  },
  {
   "cell_type": "code",
   "execution_count": null,
   "metadata": {},
   "outputs": [],
   "source": []
  },
  {
   "cell_type": "code",
   "execution_count": null,
   "metadata": {},
   "outputs": [],
   "source": []
  }
 ],
 "metadata": {
  "kernelspec": {
   "display_name": "Python 3.9.13 64-bit",
   "language": "python",
   "name": "python3"
  },
  "language_info": {
   "codemirror_mode": {
    "name": "ipython",
    "version": 3
   },
   "file_extension": ".py",
   "mimetype": "text/x-python",
   "name": "python",
   "nbconvert_exporter": "python",
   "pygments_lexer": "ipython3",
   "version": "3.9.13"
  },
  "orig_nbformat": 4,
  "vscode": {
   "interpreter": {
    "hash": "b0fa6594d8f4cbf19f97940f81e996739fb7646882a419484c72d19e05852a7e"
   }
  }
 },
 "nbformat": 4,
 "nbformat_minor": 2
}
