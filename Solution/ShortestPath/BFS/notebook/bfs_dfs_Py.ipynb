{
 "cells": [
  {
   "cell_type": "markdown",
   "metadata": {},
   "source": [
    "#### Exercises from the book grokking algorithms\n",
    "Run the breadth-first search algorithm on each of these graphs to find\n",
    "the solution.\n",
    "---- \n",
    "<img src=\"wwwroot/grok-alg-bfs.png\">"
   ]
  },
  {
   "cell_type": "code",
   "execution_count": 7,
   "metadata": {
    "dotnet_interactive": {
     "language": "csharp"
    }
   },
   "outputs": [],
   "source": [
    "from collections import deque"
   ]
  },
  {
   "cell_type": "code",
   "execution_count": 1,
   "metadata": {
    "dotnet_interactive": {
     "language": "csharp"
    }
   },
   "outputs": [],
   "source": [
    "graph = {}\n",
    "graph[\"you\"] = [\"alice\", \"bob\", \"claire\"]\n",
    "graph[\"bob\"] = [\"anuj\", \"peggy\"]\n",
    "graph[\"alice\"] = [\"peggy\"]\n",
    "graph[\"claire\"] = [\"Thom\", \"jonny\"]\n",
    "graph[\"anuj\"] = []\n",
    "graph[\"peggy\"] = []\n",
    "graph[\"Thom\"] = []\n",
    "graph[\"jonny\"] = []"
   ]
  },
  {
   "cell_type": "code",
   "execution_count": 11,
   "metadata": {
    "dotnet_interactive": {
     "language": "csharp"
    }
   },
   "outputs": [],
   "source": [
    "def person_is_seller(name):\n",
    "    return name[-1] == 'm'"
   ]
  },
  {
   "cell_type": "code",
   "execution_count": 13,
   "metadata": {
    "dotnet_interactive": {
     "language": "csharp"
    }
   },
   "outputs": [
    {
     "name": "stdout",
     "output_type": "stream",
     "text": [
      "Thom is a mango seller!\n"
     ]
    }
   ],
   "source": [
    "found = False\n",
    "search_queue = deque()\n",
    "searched = []\n",
    "search_queue += graph[\"you\"]\n",
    "while search_queue:\n",
    "    person = search_queue.popleft()\n",
    "    if person not in searched:\n",
    "        if person_is_seller(person):\n",
    "            found = True\n",
    "            print(person + \" is a mango seller!\")\n",
    "            break\n",
    "        else:\n",
    "            search_queue += graph[person]\n",
    "if found == False: \n",
    "    print(\"No mango seller found!\")"
   ]
  },
  {
   "cell_type": "markdown",
   "metadata": {},
   "source": [
    "##### EXERCISE from the book grokking algorithms\n",
    "```text\n",
    "Here’s a small graph of my morning routine.\n",
    "```\n",
    "<img src=\"wwwroot/routine-bfs.png\">\n",
    "\n",
    "It tells you that I can’t eat breakfast until I’ve brushed my teeth. So “eat\n",
    "breakfast” depends on “brush teeth”.\n",
    "* On the other hand, showering doesn’t depend on brushing my teeth,\n",
    "because I can shower before I brush my teeth. From this graph, you can\n",
    "make a list of the order in which I need to do my morning routine:\n",
    "1. Wake up.\n",
    "2. Shower.\n",
    "3. Brush teeth.\n",
    "4. Eat breakfast.\n",
    "* Note that “shower” can be moved around, so this list is also valid:\n",
    "1. Wake up.\n",
    "2. Brush teeth.\n",
    "3. Shower.\n",
    "4. Eat breakfast."
   ]
  },
  {
   "cell_type": "markdown",
   "metadata": {},
   "source": [
    "* For these three lists, mark whether each one is valid or invalid.\n",
    "<img src=\"wwwroot/routine-bfs-list.png\">"
   ]
  },
  {
   "cell_type": "code",
   "execution_count": 14,
   "metadata": {
    "dotnet_interactive": {
     "language": "csharp"
    }
   },
   "outputs": [
    {
     "data": {
      "text/plain": [
       "{'a': True, 'b': True, 'c': False}"
      ]
     },
     "execution_count": 14,
     "metadata": {},
     "output_type": "execute_result"
    }
   ],
   "source": [
    "def morning_routine():\n",
    "     a = [\"Wake up\", \"Shower\", \"Eat Breakfast\" \"Brush teeth\"]\n",
    "     b = [\"Wake up\", \"Brush teeth\", \"Eat breakfast\", \"Shower\"]\n",
    "     c = [\"Shower\",\"Wake up\", \"Brush teeth\",  \"Eat breakfast\"]\n",
    "     actual_routine1 = [\"Wake up\", \"Brush teeth\", \"Shower\", \"Eat breakfast\"]\n",
    "     actual_routine2 = [\"Wake up\", \"Shower\", \"Brush teeth\", \"Eat breakfast\"]\n",
    "     restul = {};\n",
    "     i = 0\n",
    "     visit = []\n",
    "     while restul.__len__() < 3:\n",
    "          if a[i] not in visit:\n",
    "               if a[i] == actual_routine1[i] or a[i] == actual_routine2[i]:\n",
    "                    restul[\"a\"] = True\n",
    "               else:\n",
    "                    restul[\"a\"] = False\n",
    "                    visit.append(\"a\")\n",
    "          if b[i] not in visit:\n",
    "               if b[i] == actual_routine1[i] or b[i] == actual_routine2[i]:\n",
    "                    restul[\"b\"] = True\n",
    "               else:\n",
    "                    restul[\"b\"] = False\n",
    "                    visit.append(\"b\")\n",
    "          if c[i] not in visit:\n",
    "               if c[i] == actual_routine1[i] or c[i] == actual_routine2[i]:\n",
    "                    restul[\"c\"] = True\n",
    "               else:\n",
    "                    restul[\"c\"] = False\n",
    "                    visit.append(\"c\")\n",
    "          i += 1\n",
    "     return restul\n",
    "morning_routine()"
   ]
  }
 ],
 "metadata": {
  "kernelspec": {
   "display_name": "Python 3.9.13 64-bit",
   "language": "python",
   "name": "python3"
  },
  "language_info": {
   "file_extension": ".cs",
   "mimetype": "text/x-csharp",
   "name": "python",
   "pygments_lexer": "csharp",
   "version": "3.9.13"
  },
  "orig_nbformat": 4,
  "vscode": {
   "interpreter": {
    "hash": "b0fa6594d8f4cbf19f97940f81e996739fb7646882a419484c72d19e05852a7e"
   }
  }
 },
 "nbformat": 4,
 "nbformat_minor": 2
}
