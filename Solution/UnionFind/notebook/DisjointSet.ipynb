{
 "cells": [
  {
   "cell_type": "markdown",
   "metadata": {},
   "source": [
    "#### Implementation of DisjointSet using UnionFind class"
   ]
  },
  {
   "cell_type": "code",
   "execution_count": 8,
   "metadata": {
    "dotnet_interactive": {
     "language": "csharp"
    },
    "vscode": {
     "languageId": "dotnet-interactive.csharp"
    }
   },
   "outputs": [],
   "source": [
    "public class DisjointSet\n",
    "{\n",
    "    int numberComponents;\n",
    "    int size;\n",
    "    int[] ids;\n",
    "    int[] sz;\n",
    "\n",
    "    public DisjointSet(int size)\n",
    "    {\n",
    "        if(size <= 0) throw new Exception(\"Size lower than 1 not allowed\");\n",
    "        this.size = numberComponents = size;\n",
    "        sz = new int[size];\n",
    "        ids = new int[size];\n",
    "\n",
    "        for(int i = 0; i < size; i++)\n",
    "        {\n",
    "            ids[i] = i;\n",
    "            sz[i] = 1;\n",
    "        }\n",
    "    }\n",
    "\n",
    "    public int Find(int p)\n",
    "    {\n",
    "        int root = p;\n",
    "        if(root != ids[root])\n",
    "            root = ids[root];\n",
    "        \n",
    "        while (p != root)\n",
    "        {\n",
    "            int tmp = ids[p];\n",
    "            ids[p] = root;\n",
    "            p = tmp;\n",
    "        }\n",
    "        return root;\n",
    "    }\n",
    "    public void Unify(int p, int q)\n",
    "    {\n",
    "        int root1 = Find(p);\n",
    "        int root2 = Find(q);\n",
    "        if(root1 == root2) return;\n",
    "        \n",
    "        if(sz[root1] < sz[root2])\n",
    "        {\n",
    "            sz[root2] += sz[root1];\n",
    "            ids[root1] = root2; \n",
    "        }\n",
    "        else\n",
    "        {\n",
    "            sz[root1] += sz[root2];\n",
    "            ids[root2] = root1;\n",
    "        }\n",
    "        numberComponents--;\n",
    "    }\n",
    "\n",
    "    public int Components => numberComponents;\n",
    "    public int Size => size;\n",
    "}"
   ]
  },
  {
   "cell_type": "markdown",
   "metadata": {},
   "source": [
    "[721. Accounts Merge](https://leetcode.com/problems/accounts-merge/)\n",
    "Medium\n",
    "\n",
    "Given a list of accounts where each element accounts[i] is a list of strings, where the first element accounts[i][0] is a name, and the rest of the elements are emails representing emails of the account.\n",
    "\n",
    "Now, we would like to merge these accounts. Two accounts definitely belong to the same person if there is some common email to both accounts. Note that even if two accounts have the same name, they may belong to different people as people could have the same name. A person can have any number of accounts initially, but all of their accounts definitely have the same name.\n",
    "\n",
    "After merging the accounts, return the accounts in the following format: the first element of each account is the name, and the rest of the elements are emails in sorted order. The accounts themselves can be returned in any order."
   ]
  },
  {
   "cell_type": "code",
   "execution_count": null,
   "metadata": {
    "dotnet_interactive": {
     "language": "csharp"
    },
    "vscode": {
     "languageId": "dotnet-interactive.csharp"
    }
   },
   "outputs": [],
   "source": [
    "public class Node\n",
    "{\n",
    "    public string name;\n",
    "    public Node pointer;\n",
    "    public Node(string name_, Node pointer_=  null)\n",
    "    {\n",
    "        this.name = name_;\n",
    "        pointer = pointer_;\n",
    "    }\n",
    "}"
   ]
  },
  {
   "cell_type": "code",
   "execution_count": null,
   "metadata": {
    "dotnet_interactive": {
     "language": "csharp"
    },
    "vscode": {
     "languageId": "dotnet-interactive.csharp"
    }
   },
   "outputs": [],
   "source": [
    "\n",
    "\n",
    "IList<IList<string>> AccountsMerge(IList<IList<string>> accounts) \n",
    "{\n",
    "    List<Node> names = new List<Node>();\n",
    "    Dictionary<string, Node> emails = new Dictionary<string,Node>();\n",
    "\n",
    "    foreach(var account in accounts)\n",
    "    {\n",
    "        var cur = new Node(account[0]);\n",
    "        names.Add(cur);\n",
    "        for(int i=1; i < account.Count; i++)\n",
    "        {\n",
    "            if(emails.ContainsKey(account[i]))\n",
    "            {\n",
    "                cur.pointer = emails[account[i]];\n",
    "            }\n",
    "            else\n",
    "                emails.Add(account[i],cur);\n",
    "        }\n",
    "    }\n",
    "    accounts.Clear();\n",
    "    foreach(var item in names)\n",
    "    {\n",
    "        var name =  item.pointer == null ? item : item.pointer;\n",
    "        var account = new List<string>();\n",
    "        foreach(var email in emails)\n",
    "        {\n",
    "            if(email.Value == name || email.Value.pointer == name)\n",
    "            {\n",
    "                account.Add(email.Key);\n",
    "                emails.Remove(email.Key);\n",
    "            }\n",
    "        }\n",
    "        if(account.Count > 0)\n",
    "        {\n",
    "            account = account.OrderBy(s => s).ToList();\n",
    "            account.Insert(0,name.name);\n",
    "            accounts.Add(account);\n",
    "        }\n",
    "        \n",
    "    }\n",
    "    return accounts.OrderBy(s => s[0]).ToList();\n",
    "\n",
    "}"
   ]
  }
 ],
 "metadata": {
  "kernelspec": {
   "display_name": ".NET (C#)",
   "language": "C#",
   "name": ".net-csharp"
  },
  "language_info": {
   "file_extension": ".cs",
   "mimetype": "text/x-csharp",
   "name": "C#",
   "pygments_lexer": "csharp",
   "version": "10.0"
  },
  "orig_nbformat": 4
 },
 "nbformat": 4,
 "nbformat_minor": 2
}
