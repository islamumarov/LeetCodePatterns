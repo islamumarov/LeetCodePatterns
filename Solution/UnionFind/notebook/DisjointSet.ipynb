{
 "cells": [
  {
   "cell_type": "markdown",
   "metadata": {},
   "source": [
    "#### Implementation of DisjointSet using UnionFind class"
   ]
  },
  {
   "cell_type": "code",
   "execution_count": 8,
   "metadata": {
    "vscode": {
     "languageId": "csharp"
    }
   },
   "outputs": [],
   "source": [
    "public class DisjointSet\n",
    "{\n",
    "    int numberComponents;\n",
    "    int size;\n",
    "    int[] ids;\n",
    "    int[] sz;\n",
    "\n",
    "    public DisjointSet(int size)\n",
    "    {\n",
    "        if(size <= 0) throw new Exception(\"Size lower than 1 not allowed\");\n",
    "        this.size = numberComponents = size;\n",
    "        sz = new int[size];\n",
    "        ids = new int[size];\n",
    "\n",
    "        for(int i = 0; i < size; i++)\n",
    "        {\n",
    "            ids[i] = i;\n",
    "            sz[i] = 1;\n",
    "        }\n",
    "    }\n",
    "\n",
    "    public int Find(int p)\n",
    "    {\n",
    "        int root = p;\n",
    "        if(root != ids[root])\n",
    "            root = ids[root];\n",
    "        \n",
    "        while (p != root)\n",
    "        {\n",
    "            int tmp = ids[p];\n",
    "            ids[p] = root;\n",
    "            p = tmp;\n",
    "        }\n",
    "        return root;\n",
    "    }\n",
    "    public void Unify(int p, int q)\n",
    "    {\n",
    "        int root1 = Find(p);\n",
    "        int root2 = Find(q);\n",
    "        if(root1 == root2) return;\n",
    "        \n",
    "        if(sz[root1] < sz[root2])\n",
    "        {\n",
    "            sz[root2] += sz[root1];\n",
    "            ids[root1] = root2; \n",
    "        }\n",
    "        else\n",
    "        {\n",
    "            sz[root1] += sz[root2];\n",
    "            ids[root2] = root1;\n",
    "        }\n",
    "        numberComponents--;\n",
    "    }\n",
    "\n",
    "    public int Components => numberComponents;\n",
    "    public int Size => size;\n",
    "}"
   ]
  }
 ],
 "metadata": {
  "kernelspec": {
   "display_name": ".NET (C#)",
   "language": "C#",
   "name": ".net-csharp"
  },
  "language_info": {
   "file_extension": ".cs",
   "mimetype": "text/x-csharp",
   "name": "C#",
   "pygments_lexer": "csharp",
   "version": "10.0"
  },
  "orig_nbformat": 4
 },
 "nbformat": 4,
 "nbformat_minor": 2
}
